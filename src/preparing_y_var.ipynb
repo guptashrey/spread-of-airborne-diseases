{
 "cells": [
  {
   "cell_type": "code",
   "execution_count": 1,
   "metadata": {},
   "outputs": [],
   "source": [
    "import pandas as pd"
   ]
  },
  {
   "cell_type": "code",
   "execution_count": 2,
   "metadata": {},
   "outputs": [],
   "source": [
    "data = pd.read_csv(\"../data/raw/influenza_data/Influenza_Laboratory-Confirmed_Cases_By_County__Beginning_2009-10_Season.csv\")"
   ]
  },
  {
   "cell_type": "code",
   "execution_count": 3,
   "metadata": {},
   "outputs": [],
   "source": [
    "data[\"Week Ending Date\"] = pd.to_datetime(data[\"Week Ending Date\"])\n",
    "data1 = data.drop(columns=[\"Season\", \"Region\", \"CDC Week\", \"County Centroid\", \"FIPS\"])\n",
    "data2 = data1.groupby([\"County\", \"Week Ending Date\"]).sum().reset_index()\n",
    "data2.sort_values(by=[\"Week Ending Date\"], inplace=True)\n",
    "final_data = data2[data2[\"Week Ending Date\"] >= \"2020-02-15\"].copy()\n",
    "final_data.index = final_data[\"Week Ending Date\"]\n",
    "final_data.drop(columns=[\"Week Ending Date\"], inplace=True)"
   ]
  },
  {
   "cell_type": "code",
   "execution_count": 4,
   "metadata": {},
   "outputs": [],
   "source": [
    "final_data.reset_index(inplace=True)"
   ]
  },
  {
   "cell_type": "code",
   "execution_count": 5,
   "metadata": {},
   "outputs": [],
   "source": [
    "final_data.to_csv(\"../data/processed/influenza_data/y_var.csv\", index=False)"
   ]
  }
 ],
 "metadata": {
  "kernelspec": {
   "display_name": "Python 3.8.13 ('proj_510')",
   "language": "python",
   "name": "python3"
  },
  "language_info": {
   "codemirror_mode": {
    "name": "ipython",
    "version": 3
   },
   "file_extension": ".py",
   "mimetype": "text/x-python",
   "name": "python",
   "nbconvert_exporter": "python",
   "pygments_lexer": "ipython3",
   "version": "3.8.13"
  },
  "orig_nbformat": 4,
  "vscode": {
   "interpreter": {
    "hash": "ee4f00ff4357104d2b73ee5c5149008baead522dd707f75b2ebf65e053d97984"
   }
  }
 },
 "nbformat": 4,
 "nbformat_minor": 2
}
